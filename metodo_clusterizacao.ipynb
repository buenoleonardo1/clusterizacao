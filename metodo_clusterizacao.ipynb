{
  "nbformat": 4,
  "nbformat_minor": 0,
  "metadata": {
    "colab": {
      "provenance": [],
      "authorship_tag": "ABX9TyNKG4MGdDQIkpnFfP2RRign",
      "include_colab_link": true
    },
    "kernelspec": {
      "name": "python3",
      "display_name": "Python 3"
    },
    "language_info": {
      "name": "python"
    }
  },
  "cells": [
    {
      "cell_type": "markdown",
      "metadata": {
        "id": "view-in-github",
        "colab_type": "text"
      },
      "source": [
        "<a href=\"https://colab.research.google.com/github/buenoleonardo1/clusterizacao/blob/main/metodo_clusterizacao.ipynb\" target=\"_parent\"><img src=\"https://colab.research.google.com/assets/colab-badge.svg\" alt=\"Open In Colab\"/></a>"
      ]
    },
    {
      "cell_type": "code",
      "execution_count": null,
      "metadata": {
        "id": "FITNOf4bDOfm"
      },
      "outputs": [],
      "source": [
        "from sklearn.cluster import KMeans\n",
        "import pandas as pd\n",
        "import matplotlib.pyplot as plt\n",
        "import random"
      ]
    },
    {
      "cell_type": "code",
      "source": [
        "# Gerando dados aleatórios\n",
        "nomes = ['João', 'Maria', 'Pedro', 'Ana', 'Paula', 'Lucas']\n",
        "idades = []\n",
        "compras = []\n",
        "\n",
        "for _ in range(50):\n",
        "    idades.append(random.randint(18, 65))\n",
        "    compras.append(random.choice(['Compras Online', 'Loja Física']))\n",
        "\n",
        "# Repetindo os valores para ter 50 dados em cada coluna\n",
        "nomes = nomes * 9\n",
        "idades = idades * 8\n",
        "compras = compras * 8\n",
        "\n",
        "# Criando DataFrame\n",
        "data = {\n",
        "    'Nome': nomes[:50],\n",
        "    'Idade': idades[:50],\n",
        "    'Dados de Compra': compras[:50]\n",
        "}\n",
        "\n",
        "df = pd.DataFrame(data)\n",
        "print(df)"
      ],
      "metadata": {
        "id": "yykBPfNhDYgm"
      },
      "execution_count": null,
      "outputs": []
    },
    {
      "cell_type": "code",
      "source": [
        "# Remover coluna 'Nome' antes da clusterização\n",
        "df_numeric = df.drop('Nome', axis=1)"
      ],
      "metadata": {
        "id": "gEgbqRLXDYn4"
      },
      "execution_count": null,
      "outputs": []
    },
    {
      "cell_type": "code",
      "source": [
        "# Transformar dados categóricos em variáveis dummy\n",
        "df_dummies = pd.get_dummies(df_numeric, columns=['Dados de Compra'])"
      ],
      "metadata": {
        "id": "cSBslZQGDYqJ"
      },
      "execution_count": null,
      "outputs": []
    },
    {
      "cell_type": "code",
      "source": [
        "# Determinar o número ideal de clusters\n",
        "wcss = []\n",
        "max_clusters = min(len(df_dummies), 10)\n",
        "for i in range(1, max_clusters + 1):\n",
        "    kmeans = KMeans(n_clusters=i)\n",
        "    kmeans.fit(df_dummies)\n",
        "    wcss.append(kmeans.inertia_)"
      ],
      "metadata": {
        "id": "JQct5zQDDYse"
      },
      "execution_count": null,
      "outputs": []
    },
    {
      "cell_type": "code",
      "source": [
        "# Plotar o gráfico do método do Cotovelo\n",
        "plt.plot(range(1, max_clusters + 1), wcss)\n",
        "plt.title('Método do Cotovelo')\n",
        "plt.xlabel('Número de clusters')\n",
        "plt.ylabel('WCSS')\n",
        "\n",
        "# Adicionar rótulos nos pontos do gráfico\n",
        "for i, wcss_value in enumerate(wcss):\n",
        "    plt.text(i+1, wcss_value, str(round(wcss_value, 1)))\n",
        "\n",
        "plt.show()"
      ],
      "metadata": {
        "id": "D21oypL1DYuk"
      },
      "execution_count": null,
      "outputs": []
    },
    {
      "cell_type": "code",
      "source": [
        "# Criar DataFrame com os valores do WCSS e número de clusters\n",
        "df_resultado = pd.DataFrame({'WCSS': wcss, 'Número de Clusters': range(1, max_clusters + 1)})\n",
        "print(df_resultado)"
      ],
      "metadata": {
        "id": "qG0-swB-DYw1"
      },
      "execution_count": null,
      "outputs": []
    },
    {
      "cell_type": "code",
      "source": [
        "# Escolher o número de clusters\n",
        "k = int(input(\"Digite o número de clusters escolhido: \"))\n",
        "\n",
        "#neste caso usei 3"
      ],
      "metadata": {
        "id": "uN1wNXz2DYzk"
      },
      "execution_count": null,
      "outputs": []
    },
    {
      "cell_type": "code",
      "source": [
        "# Executando a clusterização com o número escolhido\n",
        "kmeans = KMeans(n_clusters=k)\n",
        "kmeans.fit(df_dummies)"
      ],
      "metadata": {
        "id": "LI0VpiXFDpgh"
      },
      "execution_count": null,
      "outputs": []
    },
    {
      "cell_type": "code",
      "source": [
        "# Obtendo as labels dos clusters\n",
        "labels = kmeans.labels_"
      ],
      "metadata": {
        "id": "7214KRy0Dx5K"
      },
      "execution_count": null,
      "outputs": []
    },
    {
      "cell_type": "code",
      "source": [
        "# Visualização dos clusters\n",
        "df['Cluster'] = labels\n",
        "\n",
        "print(df)"
      ],
      "metadata": {
        "id": "1qkYYC_pD0Dl"
      },
      "execution_count": null,
      "outputs": []
    }
  ]
}